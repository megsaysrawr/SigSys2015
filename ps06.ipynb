{
 "metadata": {
  "name": "",
  "signature": "sha256:dad6f72452c9df8883108677c973373640a056141fccbd67a64b751f80b8a2d9"
 },
 "nbformat": 3,
 "nbformat_minor": 0,
 "worksheets": [
  {
   "cells": [
    {
     "cell_type": "markdown",
     "metadata": {},
     "source": [
      "# ps06"
     ]
    },
    {
     "cell_type": "code",
     "collapsed": false,
     "input": [
      "import numpy\n",
      "import matplotlib as mplib"
     ],
     "language": "python",
     "metadata": {},
     "outputs": [],
     "prompt_number": 9
    },
    {
     "cell_type": "code",
     "collapsed": false,
     "input": [
      "def fs_square(ts, M=3, T=4):\n",
      "    # computes a fourier series representation of a squre wave\n",
      "    # with M terms in the Fourier series approximation\n",
      "    # if M is odd, terms -(M-1)/2 -> (M-1)/2 are used\n",
      "    # if M is even terms -M/2 -> M/2-1 are used\n",
      "       \n",
      "    # create an array to store the signal\n",
      "    x = np.zeros(len(ts))    \n",
      "\n",
      "    # if M is even\n",
      "    if np.mod(M,2) ==0:\n",
      "        for k in range(-int(M/2), int(M/2)):\n",
      "            ###################################################################################################### \n",
      "            ##  change the following line to provide the Fourier series coefficients for the square wave\n",
      "            if np.mod(k, 2)==1:\n",
      "                Coeff = .5*np.sinc(.5*k)\n",
      "            if np.mod(k,2)==0:\n",
      "                Coeff = 0\n",
      "            if k == 0:\n",
      "                Coeff = 0.5\n",
      "            \n",
      "            x = x + Coeff*np.exp(1j*2*np.pi/T*k*ts)\n",
      "            \n",
      "    # if M is odd     \n",
      "    if np.mod(M,2) == 1:\n",
      "        for k in range(-int((M-1)/2), int((M-1)/2)+1):\n",
      "            ###################################################################################################### \n",
      "            ##  change the following line to provide the Fourier series coefficients for the square wave\n",
      "            if np.mod(k, 2)==1:\n",
      "                Coeff = .5*np.sinc(.5*k)\n",
      "            if np.mod(k,2)==0:\n",
      "                Coeff = 0\n",
      "            if k == 0:\n",
      "                Coeff = 0.5\n",
      "             \n",
      "            x = x + Coeff*np.exp(1j*2*np.pi/T*k*ts)\n",
      "                       \n",
      "    return x"
     ],
     "language": "python",
     "metadata": {},
     "outputs": [],
     "prompt_number": 10
    },
    {
     "cell_type": "code",
     "collapsed": false,
     "input": [
      "# Edited for ps06, question 4\n",
      "def fs_triangle(ts, M=3, T=4):\n",
      "    # computes a fourier series representation of a triangle wave\n",
      "    # with M terms in the Fourier series approximation\n",
      "    # if M is odd, terms -(M-1)/2 -> (M-1)/2 are used\n",
      "    # if M is even terms -M/2 -> M/2-1 are used\n",
      "       \n",
      "    # create an array to store the signal\n",
      "    x = np.zeros(len(ts))    \n",
      "\n",
      "    # if M is even\n",
      "    if np.mod(M,2) ==0:\n",
      "        for k in range(-int(M/2), int(M/2)):\n",
      "            # if n is odd compute the coefficients\n",
      "            if np.mod(k, 2)==1:\n",
      "                Coeff = -2/((np.pi)**2*(k**2))\n",
      "            if np.mod(k,2)==0:\n",
      "                Coeff = 0\n",
      "            if n == 0:\n",
      "                Coeff = 0.5\n",
      "            x = x + Coeff*np.exp(1j*2*np.pi/T*k*ts) * np.exp(1j*np.pi*k)\n",
      "            \n",
      "    # if M is odd     \n",
      "    if np.mod(M,2) == 1:\n",
      "        for k in range(-int((M-1)/2), int((M-1)/2)+1):\n",
      "           # if n is odd compute the coefficients\n",
      "            if np.mod(k, 2)==1:\n",
      "                Coeff = -2/((np.pi)**2*(k**2))\n",
      "            if np.mod(k,2)==0:\n",
      "                Coeff = 0\n",
      "            if k == 0:\n",
      "                Coeff = 0.5\n",
      "            x = x + Coeff*np.exp(1j*2*np.pi/T*k*ts) * np.exp(1j*np.pi*k)\n",
      "                       \n",
      "    return x"
     ],
     "language": "python",
     "metadata": {},
     "outputs": []
    }
   ],
   "metadata": {}
  }
 ]
}